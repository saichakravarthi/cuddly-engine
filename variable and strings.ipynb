{
 "cells": [
  {
   "cell_type": "code",
   "execution_count": 1,
   "metadata": {},
   "outputs": [],
   "source": [
    "a=2\n",
    "b=3"
   ]
  },
  {
   "cell_type": "code",
   "execution_count": 3,
   "metadata": {},
   "outputs": [
    {
     "name": "stdout",
     "output_type": "stream",
     "text": [
      "-27.999999999999996\n"
     ]
    }
   ],
   "source": [
    "c=a+b\n",
    "d=c/3\n",
    "e=d-4\n",
    "print(e*12)"
   ]
  },
  {
   "cell_type": "code",
   "execution_count": 20,
   "metadata": {},
   "outputs": [],
   "source": [
    "name=\"abcdefghijklmnopqrestuvwxyz\""
   ]
  },
  {
   "cell_type": "code",
   "execution_count": 21,
   "metadata": {},
   "outputs": [
    {
     "name": "stdout",
     "output_type": "stream",
     "text": [
      "abcdefghijklmnopqrestuvwxyz\n",
      "a\n",
      "b\n"
     ]
    }
   ],
   "source": [
    "print(name)\n",
    "print(name[0])\n",
    "print(name[1])\n"
   ]
  },
  {
   "cell_type": "code",
   "execution_count": 22,
   "metadata": {},
   "outputs": [
    {
     "name": "stdout",
     "output_type": "stream",
     "text": [
      "h\n"
     ]
    }
   ],
   "source": [
    "print(name[7])"
   ]
  },
  {
   "cell_type": "code",
   "execution_count": 31,
   "metadata": {},
   "outputs": [
    {
     "name": "stdout",
     "output_type": "stream",
     "text": [
      "z\n",
      "a\n",
      "z\n",
      "a\n"
     ]
    }
   ],
   "source": [
    "print(name[26])#ending letter\n",
    "print(name[0])#starting letter\n",
    "print(name[-1])#starthig letter in negitive\n",
    "print(name[-27])#ending of the string \n",
    "#coming to negitive integer we will start with -1 "
   ]
  },
  {
   "cell_type": "code",
   "execution_count": 24,
   "metadata": {},
   "outputs": [
    {
     "name": "stdout",
     "output_type": "stream",
     "text": [
      "abcdefghijklmno\n"
     ]
    }
   ],
   "source": [
    "print(name[0:15])#it prients the leterrs in between the 0 and 15 on the string"
   ]
  },
  {
   "cell_type": "code",
   "execution_count": 25,
   "metadata": {},
   "outputs": [
    {
     "name": "stdout",
     "output_type": "stream",
     "text": [
      "abcdefghijklmno\n"
     ]
    }
   ],
   "source": [
    "print(name[:15])#it will also print all the varibles below the 15"
   ]
  },
  {
   "cell_type": "code",
   "execution_count": 59,
   "metadata": {},
   "outputs": [
    {
     "name": "stdout",
     "output_type": "stream",
     "text": [
      "abcdefghijklmnopqrestuvwxyz\n"
     ]
    }
   ],
   "source": [
    "print(name[0:])#in willprint the all the varibles graterthan the 0"
   ]
  },
  {
   "cell_type": "code",
   "execution_count": 42,
   "metadata": {},
   "outputs": [
    {
     "name": "stdout",
     "output_type": "stream",
     "text": [
      "13579\n"
     ]
    }
   ],
   "source": [
    "number=\"12345678910\"\n",
    "print(number[0:10:2])#its going to print every 2 number in the stering"
   ]
  },
  {
   "cell_type": "code",
   "execution_count": 4,
   "metadata": {},
   "outputs": [
    {
     "name": "stdout",
     "output_type": "stream",
     "text": [
      "1234567891\n",
      "['1', '2', '3', '4', '5', '6', '7', '8', '9', '10']\n",
      "1234567891\n"
     ]
    }
   ],
   "source": [
    "space=\"1,2,3,4,5,6,7,8,9,10\"\n",
    "print(space[0:21:2])\n",
    "print(space.split(','))\n",
    "print(space[0::2])"
   ]
  },
  {
   "cell_type": "code",
   "execution_count": 60,
   "metadata": {},
   "outputs": [
    {
     "name": "stdout",
     "output_type": "stream",
     "text": [
      "nallapanenisaichakravarthi\n"
     ]
    }
   ],
   "source": [
    "firstname=\"nallapaneni\"\n",
    "middlename=\"sai\"\n",
    "lastname=\"chakravarthi\"\n",
    "print(firstname + middlename + lastname)#combineing the string"
   ]
  },
  {
   "cell_type": "code",
   "execution_count": 61,
   "metadata": {},
   "outputs": [
    {
     "name": "stdout",
     "output_type": "stream",
     "text": [
      "saisaisaisaisai\n"
     ]
    }
   ],
   "source": [
    "print(middlename *5)"
   ]
  },
  {
   "cell_type": "code",
   "execution_count": 62,
   "metadata": {},
   "outputs": [
    {
     "name": "stdout",
     "output_type": "stream",
     "text": [
      "sai\n"
     ]
    }
   ],
   "source": [
    "print(middlename * (5-4))"
   ]
  },
  {
   "cell_type": "code",
   "execution_count": 69,
   "metadata": {},
   "outputs": [
    {
     "name": "stdout",
     "output_type": "stream",
     "text": [
      "saisaisaisaisai1,2,3,4,5,6,7,8,9,101,2,3,4,5,6,7,8,9,101,2,3,4,5,6,7,8,9,101,2,3,4,5,6,7,8,9,101,2,3,4,5,6,7,8,9,10\n"
     ]
    }
   ],
   "source": [
    "print(middlename *5 + space *5)"
   ]
  },
  {
   "cell_type": "code",
   "execution_count": 76,
   "metadata": {},
   "outputs": [
    {
     "name": "stdout",
     "output_type": "stream",
     "text": [
      "True\n",
      "True\n",
      "False\n"
     ]
    }
   ],
   "source": [
    "myname=\"saichakravarthi\"\n",
    "print(\"sai\" in myname)\n",
    "print(\"chakravarthi\" in myname)\n",
    "print(\"nallapaneni\" in myname)"
   ]
  },
  {
   "cell_type": "code",
   "execution_count": null,
   "metadata": {},
   "outputs": [],
   "source": []
  }
 ],
 "metadata": {
  "kernelspec": {
   "display_name": "Python 3",
   "language": "python",
   "name": "python3"
  },
  "language_info": {
   "codemirror_mode": {
    "name": "ipython",
    "version": 3
   },
   "file_extension": ".py",
   "mimetype": "text/x-python",
   "name": "python",
   "nbconvert_exporter": "python",
   "pygments_lexer": "ipython3",
   "version": "3.7.3"
  }
 },
 "nbformat": 4,
 "nbformat_minor": 2
}
