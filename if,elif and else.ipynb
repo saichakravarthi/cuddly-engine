{
 "cells": [
  {
   "cell_type": "code",
   "execution_count": 1,
   "metadata": {},
   "outputs": [
    {
     "name": "stdout",
     "output_type": "stream",
     "text": [
      "sai\n"
     ]
    }
   ],
   "source": [
    "print(\"sai\")"
   ]
  },
  {
   "cell_type": "code",
   "execution_count": null,
   "metadata": {},
   "outputs": [],
   "source": []
  },
  {
   "cell_type": "code",
   "execution_count": 2,
   "metadata": {},
   "outputs": [
    {
     "name": "stdout",
     "output_type": "stream",
     "text": [
      "please enter your namesai\n",
      "please enter your age23\n",
      "please select one of the option\n"
     ]
    }
   ],
   "source": [
    "name = input(\"please enter your name\")\n",
    "age = int(input(\"please enter your age\"))\n",
    "\n",
    "if age>= 18:\n",
    "    print(\"please select one of the option\")\n",
    "else:\n",
    "    print(\"you are not eligible to use your vote please come back after {0}years \".format(18 - age))"
   ]
  },
  {
   "cell_type": "code",
   "execution_count": 3,
   "metadata": {},
   "outputs": [
    {
     "name": "stdout",
     "output_type": "stream",
     "text": [
      "please select you option 1,2,3,4:\n",
      "1\n",
      "you selected option 1\n"
     ]
    }
   ],
   "source": [
    "if age>=18:\n",
    "    print(\"please select you option 1,2,3,4:\")\n",
    "    option = int(input())\n",
    "    if  option ==1:\n",
    "        print(\"you selected option 1\")\n",
    "    elif option ==2:\n",
    "            print(\"you selected option 2\")\n",
    "            if option ==3:\n",
    "                print(\"you selected option 3\")\n",
    "    elif option ==4:\n",
    "        print(\"you selected option 4\")\n",
    "        if option ==5:\n",
    "            print(\"invalid input\")"
   ]
  },
  {
   "cell_type": "code",
   "execution_count": 4,
   "metadata": {},
   "outputs": [
    {
     "name": "stdout",
     "output_type": "stream",
     "text": [
      "you can vote\n",
      "please select any one option 1,2,3,4\n",
      "2\n",
      "you selected 2\n"
     ]
    }
   ],
   "source": [
    "\n",
    "if age>=18:\n",
    "    print(\"you can vote\")\n",
    "    print(\"please select any one option 1,2,3,4\")\n",
    "    option = int(input())\n",
    "if option >= 5:\n",
    "    print(\"invalid input\")\n",
    "if option ==1:\n",
    "    print(\"you selected 1\")\n",
    "if option ==2:\n",
    "    print(\"you selected 2\")\n",
    "if option ==3:\n",
    "    print(\"you selected 3\")\n",
    "if option ==4:\n",
    "    print(\"you selected 4\")"
   ]
  },
  {
   "cell_type": "code",
   "execution_count": null,
   "metadata": {},
   "outputs": [],
   "source": []
  }
 ],
 "metadata": {
  "kernelspec": {
   "display_name": "Python 3",
   "language": "python",
   "name": "python3"
  },
  "language_info": {
   "codemirror_mode": {
    "name": "ipython",
    "version": 3
   },
   "file_extension": ".py",
   "mimetype": "text/x-python",
   "name": "python",
   "nbconvert_exporter": "python",
   "pygments_lexer": "ipython3",
   "version": "3.7.3"
  }
 },
 "nbformat": 4,
 "nbformat_minor": 2
}
