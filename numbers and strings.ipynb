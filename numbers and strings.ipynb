{
 "cells": [
  {
   "cell_type": "code",
   "execution_count": 1,
   "metadata": {},
   "outputs": [
    {
     "ename": "TypeError",
     "evalue": "can only concatenate str (not \"int\") to str",
     "output_type": "error",
     "traceback": [
      "\u001b[1;31m---------------------------------------------------------------------------\u001b[0m",
      "\u001b[1;31mTypeError\u001b[0m                                 Traceback (most recent call last)",
      "\u001b[1;32m<ipython-input-1-f13859f2389e>\u001b[0m in \u001b[0;36m<module>\u001b[1;34m\u001b[0m\n\u001b[0;32m      1\u001b[0m \u001b[0mage\u001b[0m\u001b[1;33m=\u001b[0m\u001b[1;36m23\u001b[0m\u001b[1;33m\u001b[0m\u001b[1;33m\u001b[0m\u001b[0m\n\u001b[1;32m----> 2\u001b[1;33m \u001b[0mprint\u001b[0m\u001b[1;33m(\u001b[0m\u001b[1;34m\"my age is \"\u001b[0m \u001b[1;33m+\u001b[0m \u001b[0mage\u001b[0m \u001b[1;33m+\u001b[0m \u001b[1;34m\"years\"\u001b[0m\u001b[1;33m)\u001b[0m\u001b[1;33m\u001b[0m\u001b[1;33m\u001b[0m\u001b[0m\n\u001b[0m",
      "\u001b[1;31mTypeError\u001b[0m: can only concatenate str (not \"int\") to str"
     ]
    }
   ],
   "source": [
    "age=23\n",
    "print(\"my age is \" + age + \"years\")"
   ]
  },
  {
   "cell_type": "code",
   "execution_count": 7,
   "metadata": {},
   "outputs": [
    {
     "name": "stdout",
     "output_type": "stream",
     "text": [
      "my age is 23 year\n"
     ]
    }
   ],
   "source": [
    "print(\"my age is \"+str(age) + \" year\")"
   ]
  },
  {
   "cell_type": "code",
   "execution_count": 5,
   "metadata": {},
   "outputs": [
    {
     "name": "stdout",
     "output_type": "stream",
     "text": [
      "my age is 23 years\n"
     ]
    }
   ],
   "source": [
    "print(\"my age is {0} years\".format(age))"
   ]
  },
  {
   "cell_type": "code",
   "execution_count": 12,
   "metadata": {},
   "outputs": [
    {
     "name": "stdout",
     "output_type": "stream",
     "text": [
      "Thay are 7 days in a week monday,tuesday,wednesday,thruesday,friday,satruday,sunday\n"
     ]
    }
   ],
   "source": [
    "print(\"Thay are {0} days in a week {1},{2},{3},{4},{5},{6},{7}\".format(7,\"monday\",\"tuesday\",\"wednesday\",\"thruesday\",\"friday\",\"satruday\",\"sunday\"))"
   ]
  },
  {
   "cell_type": "code",
   "execution_count": 15,
   "metadata": {},
   "outputs": [
    {
     "name": "stdout",
     "output_type": "stream",
     "text": [
      "My friends sai is :good, xxxx is  average, manohar is good, sp is good, zzz is bad\n"
     ]
    }
   ],
   "source": [
    "print(\"My friends sai is :{0}, xxxx is  {1}, manohar is {0}, sp is {0}, zzz is {2}\".format(\"good\",\"average\",\"bad\"))"
   ]
  },
  {
   "cell_type": "code",
   "execution_count": 37,
   "metadata": {},
   "outputs": [
    {
     "name": "stdout",
     "output_type": "stream",
     "text": [
      "no.  1 squared is    1 and cubed is     1\n",
      "no.  2 squared is    4 and cubed is     8\n",
      "no.  3 squared is    9 and cubed is    27\n",
      "no.  4 squared is   16 and cubed is    64\n",
      "no.  5 squared is   25 and cubed is   125\n",
      "no.  6 squared is   36 and cubed is   216\n",
      "no.  7 squared is   49 and cubed is   343\n",
      "no.  8 squared is   64 and cubed is   512\n",
      "no.  9 squared is   81 and cubed is   729\n",
      "no. 10 squared is  100 and cubed is  1000\n",
      "no. 11 squared is  121 and cubed is  1331\n"
     ]
    }
   ],
   "source": [
    "for i in range(1,12):#it prients 11 rows of output\n",
    "    print(\"no. %2d squared is %4d and cubed is %5d\" %(i,i ** 2, i ** 3))"
   ]
  },
  {
   "cell_type": "code",
   "execution_count": 46,
   "metadata": {},
   "outputs": [
    {
     "name": "stdout",
     "output_type": "stream",
     "text": [
      " 1 1   1   \n",
      " 2 4   8   \n",
      " 3 9   27  \n",
      " 4 16  64  \n",
      " 5 25  125 \n",
      " 6 36  216 \n",
      " 7 49  343 \n",
      " 8 64  512 \n",
      " 9 81  729 \n",
      "10 100 1000\n",
      "11 121 1331\n"
     ]
    }
   ],
   "source": [
    "for j in range(1, 12):\n",
    "    print(\"{0:2} {1:<4}{2:<4}\".format(j,j ** 2,j **3))\n"
   ]
  },
  {
   "cell_type": "code",
   "execution_count": null,
   "metadata": {},
   "outputs": [],
   "source": []
  },
  {
   "cell_type": "code",
   "execution_count": null,
   "metadata": {},
   "outputs": [],
   "source": []
  }
 ],
 "metadata": {
  "kernelspec": {
   "display_name": "Python 3",
   "language": "python",
   "name": "python3"
  },
  "language_info": {
   "codemirror_mode": {
    "name": "ipython",
    "version": 3
   },
   "file_extension": ".py",
   "mimetype": "text/x-python",
   "name": "python",
   "nbconvert_exporter": "python",
   "pygments_lexer": "ipython3",
   "version": "3.7.3"
  }
 },
 "nbformat": 4,
 "nbformat_minor": 2
}
